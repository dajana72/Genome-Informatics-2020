{
 "cells": [
  {
   "cell_type": "code",
   "execution_count": 1,
   "metadata": {},
   "outputs": [
    {
     "name": "stdout",
     "output_type": "stream",
     "text": [
      "Unmapped reads which are in the file:  17765\n",
      "Total number of reads:  2921629\n",
      "Number of reads with mapping quality 0:  126628\n",
      "Average mapping quality for all the reads:  55.914\n",
      "Average mapping quality if reads with 0 mapp quality are filtered out:  58.447\n"
     ]
    }
   ],
   "source": [
    "import pysam;\n",
    "\n",
    "file = pysam.AlignmentFile(\"/sbgenomics/project-files/Homework2/merged-tumor.bam\")\n",
    "\n",
    "unmapped_reads = 0\n",
    "total_reads = 0\n",
    "no_mapping_quality0 = 0\n",
    "mapping_quality = 0\n",
    "mapping_quality_without0 = 0\n",
    "\n",
    "for read in file.fetch(until_eof=True):\n",
    "    unmapped_reads += 1 if read.is_unmapped else 0\n",
    "    total_reads += 1\n",
    "    mapping_quality += read.mapping_quality\n",
    "    if read.mapping_quality == 0:\n",
    "        mapping_quality_without0 += read.mapping_quality\n",
    "        no_mapping_quality0 += 1\n",
    "        \n",
    "mapping_quality_without0 = mapping_quality -  mapping_quality_without0  \n",
    "\n",
    "print('Unmapped reads which are in the file: ', unmapped_reads)\n",
    "print('Total number of reads: ', total_reads)\n",
    "print('Number of reads with mapping quality 0: ', no_mapping_quality0)\n",
    "print('Average mapping quality for all the reads: ', round(mapping_quality/total_reads, 3))\n",
    "print('Average mapping quality if reads with 0 mapp quality are filtered out: ', round(mapping_quality_without0/(total_reads-no_mapping_quality0),3))"
   ]
  },
  {
   "cell_type": "code",
   "execution_count": null,
   "metadata": {},
   "outputs": [],
   "source": []
  }
 ],
 "metadata": {
  "kernelspec": {
   "display_name": "Python 3",
   "language": "python",
   "name": "python3"
  },
  "language_info": {
   "codemirror_mode": {
    "name": "ipython",
    "version": 3
   },
   "file_extension": ".py",
   "mimetype": "text/x-python",
   "name": "python",
   "nbconvert_exporter": "python",
   "pygments_lexer": "ipython3",
   "version": "3.6.3"
  }
 },
 "nbformat": 4,
 "nbformat_minor": 2
}
